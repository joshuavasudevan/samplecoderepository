{
 "cells": [
  {
   "cell_type": "markdown",
   "id": "72e2e0df",
   "metadata": {},
   "source": [
    "# Machine learing models"
   ]
  },
  {
   "cell_type": "markdown",
   "id": "28e2bd3c",
   "metadata": {},
   "source": [
    "In this sheet, sample codes of machine learning models (xgboost, randomforest, ann) created for crest office. Similar way another office dataset were splitted into 3, 6, 9 and 12 month dataset to see how the models perform for different size of datasets. 3 algorithms were used to create temperature, CO2 and TVOC models. Scikit learn library is used for the models."
   ]
  },
  {
   "cell_type": "code",
   "execution_count": null,
   "id": "94599ddc",
   "metadata": {},
   "outputs": [],
   "source": [
    "import pandas as pd\n",
    "import numpy as np\n",
    "import matplotlib.pyplot as plt\n",
    "import seaborn as sns"
   ]
  },
  {
   "cell_type": "code",
   "execution_count": null,
   "id": "deef6d83",
   "metadata": {},
   "outputs": [],
   "source": [
    "import sklearn as sk\n",
    "import xgboost as xgb\n",
    "from sklearn.model_selection import train_test_split\n",
    "from sklearn.ensemble import RandomForestRegressor\n",
    "from sklearn.metrics import make_scorer, r2_score,mean_squared_error\n",
    "from sklearn.model_selection import train_test_split, cross_val_score, ShuffleSplit, GridSearchCV, RandomizedSearchCV\n",
    "from sklearn.metrics import mean_absolute_percentage_error\n",
    "from sklearn.neural_network import MLPRegressor\n",
    "from sklearn.datasets import make_regression"
   ]
  },
  {
   "cell_type": "code",
   "execution_count": null,
   "id": "5973b25c",
   "metadata": {},
   "outputs": [],
   "source": [
    "import os\n",
    "os.getcwd()"
   ]
  },
  {
   "cell_type": "code",
   "execution_count": null,
   "id": "57538a9d",
   "metadata": {},
   "outputs": [],
   "source": [
    "#change working directory\"\n",
    "os.chdir(\"D:\\\\OneDrive - Loughborough University\\\\PhD\\\\Case study\\\\Crest\\\\data_ai_model\")"
   ]
  },
  {
   "cell_type": "markdown",
   "id": "4a06e3a3",
   "metadata": {},
   "source": [
    "# XGBOOST Model - AQ 1 temperature"
   ]
  },
  {
   "cell_type": "markdown",
   "id": "460f4782",
   "metadata": {},
   "source": [
    "First is the xgboost model. Xgboost is the gradient booted tree model which is a type of an ensemble learning. It works by sequentially adding weak models, each aim to correct the errors made by the previous models.It is more faster and accurate than deep learning models."
   ]
  },
  {
   "cell_type": "code",
   "execution_count": null,
   "id": "a8ee7ac8",
   "metadata": {},
   "outputs": [],
   "source": [
    "#Import the data\n",
    "data = pd.read_csv(\"crestdataformodel_2.csv\")"
   ]
  },
  {
   "cell_type": "code",
   "execution_count": null,
   "id": "1aaa20f5",
   "metadata": {},
   "outputs": [],
   "source": [
    "#Copy the dataset so we dont make any changes to the original data\n",
    "df_aq1temp = data.copy(deep=True)"
   ]
  },
  {
   "cell_type": "code",
   "execution_count": null,
   "id": "9224983e",
   "metadata": {},
   "outputs": [],
   "source": [
    "#drop the unrelevant columns\n",
    "df_aq1temp.drop(columns=['timestamp','co2_aq1','co2_aq2','co2_aq3','co2_aq4','humi_aq1','humi_aq2','humi_aq3','humi_aq4','tvoc_aq1','tvoc_aq2','tvoc_aq3','tvoc_aq4','temp_aq2','temp_aq3'], inplace=True)"
   ]
  },
  {
   "cell_type": "code",
   "execution_count": null,
   "id": "81ef3b7e",
   "metadata": {
    "scrolled": true
   },
   "outputs": [],
   "source": [
    "df_aq1temp.head()"
   ]
  },
  {
   "cell_type": "code",
   "execution_count": null,
   "id": "a24ef58c",
   "metadata": {},
   "outputs": [],
   "source": [
    "#Check the shape of the dataset\n",
    "df_aq1temp.shape"
   ]
  },
  {
   "cell_type": "code",
   "execution_count": null,
   "id": "ff5792ab",
   "metadata": {},
   "outputs": [],
   "source": [
    "#Check the null values in the dataset\n",
    "df_aq1temp.isna().sum()"
   ]
  },
  {
   "cell_type": "code",
   "execution_count": null,
   "id": "40c6c07d",
   "metadata": {},
   "outputs": [],
   "source": [
    "#Drop the NaN values\n",
    "df_aq1temp = df_aq1temp[df_aq1temp['temp_aq1'].notna()]\n",
    "df_aq1temp = df_aq1temp[df_aq1temp['temp_aq4'].notna()]"
   ]
  },
  {
   "cell_type": "code",
   "execution_count": null,
   "id": "e30299dc",
   "metadata": {},
   "outputs": [],
   "source": [
    "#Verify whether the NaN values are dropped\n",
    "df_aq1temp.isna().sum()"
   ]
  },
  {
   "cell_type": "code",
   "execution_count": null,
   "id": "7d283c85",
   "metadata": {},
   "outputs": [],
   "source": [
    "#Shape of the dataset\n",
    "df_aq1temp.shape"
   ]
  },
  {
   "cell_type": "markdown",
   "id": "00c82a86",
   "metadata": {},
   "source": [
    "## Train - Test split"
   ]
  },
  {
   "cell_type": "code",
   "execution_count": null,
   "id": "79e32f0e",
   "metadata": {},
   "outputs": [],
   "source": [
    "#Assign x and y variables\n",
    "\n",
    "x = df_aq1temp[[]]\n",
    "y = df_aq1temp[[]]"
   ]
  },
  {
   "cell_type": "code",
   "execution_count": null,
   "id": "9d110140",
   "metadata": {},
   "outputs": [],
   "source": [
    "#Split train test set\n",
    "\n",
    "x_train, x_test, y_train, y_test = train_test_split(x, y, test_size=0.15,random_state=42)"
   ]
  },
  {
   "cell_type": "code",
   "execution_count": null,
   "id": "0bfe266c",
   "metadata": {},
   "outputs": [],
   "source": [
    "#Split training set to train and validation set\n",
    "\n",
    "x_train_oly, x_val, y_train_oly, y_val = train_test_split(x_train, y_train, test_size=0.15, random_state=42)"
   ]
  },
  {
   "cell_type": "code",
   "execution_count": null,
   "id": "9283650b",
   "metadata": {},
   "outputs": [],
   "source": [
    "x_train_oly.shape"
   ]
  },
  {
   "cell_type": "code",
   "execution_count": null,
   "id": "ff1a2a74",
   "metadata": {},
   "outputs": [],
   "source": [
    "x_val.shape"
   ]
  },
  {
   "cell_type": "code",
   "execution_count": null,
   "id": "ae68afd4",
   "metadata": {},
   "outputs": [],
   "source": [
    "x_test.shape"
   ]
  },
  {
   "cell_type": "markdown",
   "id": "b4c9ce1e",
   "metadata": {},
   "source": [
    "## Fit the model"
   ]
  },
  {
   "cell_type": "code",
   "execution_count": null,
   "id": "06b7d6f2",
   "metadata": {},
   "outputs": [],
   "source": [
    "dtrain = xgb.DMatrix(x_train_oly, label=y_train_oly)"
   ]
  },
  {
   "cell_type": "code",
   "execution_count": null,
   "id": "53ca6e4c",
   "metadata": {},
   "outputs": [],
   "source": [
    "dtrain"
   ]
  },
  {
   "cell_type": "code",
   "execution_count": null,
   "id": "871ebe35",
   "metadata": {},
   "outputs": [],
   "source": [
    "reg_aq1_temp = xgb.XGBRegressor(n_estimators = 100, max_depth = 10, eval_metric = mean_squared_error, random_state = 42)"
   ]
  },
  {
   "cell_type": "code",
   "execution_count": null,
   "id": "41387a87",
   "metadata": {},
   "outputs": [],
   "source": [
    "#Fit the Xgboost model\n",
    "reg_aq1_temp.fit(x_train_oly, y_train_oly, eval_set = [(x_val, y_val)])"
   ]
  },
  {
   "cell_type": "code",
   "execution_count": null,
   "id": "16cfd886",
   "metadata": {},
   "outputs": [],
   "source": [
    "#Parameters of the model\n",
    "reg_aq1_temp.score"
   ]
  },
  {
   "cell_type": "code",
   "execution_count": null,
   "id": "6a05df69",
   "metadata": {},
   "outputs": [],
   "source": [
    "#check r2 value of validation set\n",
    "r2_score(reg_aq1_temp.predict(x_val), y_val)"
   ]
  },
  {
   "cell_type": "code",
   "execution_count": null,
   "id": "e0c5e432",
   "metadata": {},
   "outputs": [],
   "source": [
    "#Check the mse of validation set\n",
    "mean_squared_error(reg_aq1_temp.predict(x_val), y_val)"
   ]
  },
  {
   "cell_type": "code",
   "execution_count": null,
   "id": "d97c322b",
   "metadata": {},
   "outputs": [],
   "source": [
    "#Check the mape of validation set\n",
    "mean_absolute_percentage_error(reg_aq1_temp.predict(x_val), y_val)"
   ]
  },
  {
   "cell_type": "markdown",
   "id": "ee8160c4",
   "metadata": {},
   "source": [
    "## Hyperparameter optimisation"
   ]
  },
  {
   "cell_type": "code",
   "execution_count": null,
   "id": "3b7478bd",
   "metadata": {},
   "outputs": [],
   "source": [
    "#set the scoring and parameter grid\n",
    "scoring = {'mse': make_scorer(mean_squared_error,greater_is_better=False)}\n",
    "param_grid = { \n",
    "    \"learning_rate\": [0.0001,0.001, 0.01, 0.1,0.3, 1] ,\n",
    "    \"n_estimators\" : range (50, 400, 10),\n",
    "    \"max_depth\": range (2, 20, 1),\n",
    "    \"gamma\": [i/10.0 for i in range(0,5)],\n",
    "    \"colsample_bytree\": [i/10.0 for i in range(3,10)],\n",
    "    \"reg_lambda\": [1e-5, 1e-2, 0.1, 1, 10, 100]\n",
    "}"
   ]
  },
  {
   "cell_type": "code",
   "execution_count": null,
   "id": "cfa2aa98",
   "metadata": {},
   "outputs": [],
   "source": [
    "#assign the cv\n",
    "cv = ShuffleSplit(n_splits=5, test_size=0.2,random_state=42)"
   ]
  },
  {
   "cell_type": "code",
   "execution_count": null,
   "id": "f302f63b",
   "metadata": {},
   "outputs": [],
   "source": [
    "random_search_aq1_temp = RandomizedSearchCV(estimator=reg_aq1_temp, \n",
    "                           param_distributions=param_grid, \n",
    "                           n_iter=500,\n",
    "                           scoring=scoring, \n",
    "                           refit='mse',\n",
    "                           n_jobs=-1, \n",
    "                           cv=cv, \n",
    "                           verbose=2)"
   ]
  },
  {
   "cell_type": "code",
   "execution_count": null,
   "id": "aecb50f5",
   "metadata": {},
   "outputs": [],
   "source": [
    "#Hyperparameter optimisation for find the best possible hyperparameter for the model\n",
    "%%time\n",
    "random_search_aq1_temp.fit(x_train_oly, y_train_oly)"
   ]
  },
  {
   "cell_type": "code",
   "execution_count": null,
   "id": "89345de7",
   "metadata": {},
   "outputs": [],
   "source": [
    "#Display the best hyperparameters from the optimisation\n",
    "random_search_aq1_temp.best_params_"
   ]
  },
  {
   "cell_type": "code",
   "execution_count": null,
   "id": "39b79aa9",
   "metadata": {},
   "outputs": [],
   "source": [
    "#Check the mse, mape and r2 for validation and test set using optimised model\n",
    "\n",
    "mse_val_random_search_aq1_temp = mean_squared_error(random_search_aq1_temp.predict(x_val), y_val)\n",
    "\n",
    "mape_val_random_search_aq1_temp = mean_absolute_percentage_error(random_search_aq1_temp.predict(x_val), y_val)\n",
    "\n",
    "r2_val_random_search_aq1_temp = r2_score(random_search_aq1_temp.predict(x_val), y_val)\n",
    "\n",
    "mse_test_random_search_aq1_temp = mean_squared_error(random_search_aq1_temp.predict(x_test), y_test)\n",
    "\n",
    "mape_test_random_search_aq1_temp = mean_absolute_percentage_error(random_search_aq1_temp.predict(x_test), y_test)\n",
    "\n",
    "r2_test_random_search_aq1_temp = r2_score(random_search_aq1_temp.predict(x_test), y_test)\n",
    "\n",
    "mse_val_reg_aq1_temp = mean_squared_error(reg_aq1_temp.predict(x_test), y_test)\n",
    "\n",
    "mape_val_reg_aq1_temp = mean_absolute_percentage_error(reg_aq1_temp.predict(x_test), y_test)\n",
    "\n",
    "r2_val_reg_aq1_temp = r2_score(reg_aq1_temp.predict(x_test), y_test)"
   ]
  },
  {
   "cell_type": "code",
   "execution_count": null,
   "id": "f18e5162",
   "metadata": {},
   "outputs": [],
   "source": [
    "print(mse_val_random_search_aq1_temp)\n",
    "print(mape_val_random_search_aq1_temp)\n",
    "print(r2_val_random_search_aq1_temp)\n",
    "print(mse_test_random_search_aq1_temp)\n",
    "print(mape_test_random_search_aq1_temp) \n",
    "print(r2_test_random_search_aq1_temp)\n",
    "print(mse_val_reg_aq1_temp)\n",
    "print(mape_val_reg_aq1_temp)\n",
    "print(r2_val_reg_aq1_temp)"
   ]
  },
  {
   "cell_type": "code",
   "execution_count": null,
   "id": "05c0a6f7",
   "metadata": {},
   "outputs": [],
   "source": [
    "#Plot prediction vs validation data\n",
    "plot_df = pd.DataFrame([random_search_aq1_temp.predict(x_val), y_val.temp_aq1.values]).T\n",
    "plot_df.rename(columns={0:'prediction', 1:'actual'}, inplace=True)\n",
    "plot_df"
   ]
  },
  {
   "cell_type": "code",
   "execution_count": null,
   "id": "b75453cc",
   "metadata": {},
   "outputs": [],
   "source": [
    "#plot prediction vs test data\n",
    "plot_df_1 = pd.DataFrame([random_search_aq1_temp.predict(x_test), y_test.temp_aq1.values]).T\n",
    "plot_df_1.rename(columns={0:'prediction', 1:'actual'}, inplace=True)\n",
    "plot_df_1"
   ]
  },
  {
   "cell_type": "code",
   "execution_count": null,
   "id": "28215ff2",
   "metadata": {},
   "outputs": [],
   "source": [
    "#Export the model as a pickle file\n",
    "import pickle\n",
    "with open('xgb_temp_aq1.pkl','wb') as f:\n",
    "    pickle.dump(random_search_aq1_temp,f)"
   ]
  },
  {
   "cell_type": "code",
   "execution_count": null,
   "id": "65098916",
   "metadata": {},
   "outputs": [],
   "source": [
    "#Import the model\n",
    "import pickle\n",
    "with open('xgb_temp_aq9_9month.pkl', 'rb') as f:\n",
    "    regwww_temp9 = pickle.load(f)"
   ]
  },
  {
   "cell_type": "code",
   "execution_count": null,
   "id": "b292472b",
   "metadata": {},
   "outputs": [],
   "source": [
    "from xgboost import plot_tree\n",
    "import matplotlib.pyplot as plt\n",
    "\n",
    "# Plot the first tree\n",
    "plot_tree(regwww_temp9, num_trees=0)\n",
    "plt.show()\n"
   ]
  },
  {
   "cell_type": "markdown",
   "id": "8c934b7b",
   "metadata": {},
   "source": [
    "# RANDOM FOREST Model FOR AQ 1 Temperature"
   ]
  },
  {
   "cell_type": "markdown",
   "id": "ab479a93",
   "metadata": {},
   "source": [
    "Random forest is an ensemble of decision trees. It is easier to use and less prone to overfitting. "
   ]
  },
  {
   "cell_type": "code",
   "execution_count": null,
   "id": "48b0114e",
   "metadata": {},
   "outputs": [],
   "source": [
    "reg_aq1_temp1 = RandomForestRegressor(n_estimators = 100, max_depth = 10, random_state = 42)"
   ]
  },
  {
   "cell_type": "code",
   "execution_count": null,
   "id": "98f512de",
   "metadata": {},
   "outputs": [],
   "source": [
    "#fit the randomforest model\n",
    "reg_aq1_temp1.fit(x_train_oly, y_train_oly)"
   ]
  },
  {
   "cell_type": "code",
   "execution_count": null,
   "id": "f558124f",
   "metadata": {},
   "outputs": [],
   "source": [
    "#Check the parameters\n",
    "reg_aq1_temp1.score"
   ]
  },
  {
   "cell_type": "code",
   "execution_count": null,
   "id": "969cda83",
   "metadata": {},
   "outputs": [],
   "source": [
    "#check r2 value of validation set\n",
    "r2_score(reg_aq1_temp1.predict(x_val), y_val)"
   ]
  },
  {
   "cell_type": "code",
   "execution_count": null,
   "id": "8e0cc661",
   "metadata": {},
   "outputs": [],
   "source": [
    "#check meansquarederror value of validation set\n",
    "mean_squared_error(reg_aq1_temp1.predict(x_val), y_val)"
   ]
  },
  {
   "cell_type": "code",
   "execution_count": null,
   "id": "69bc6134",
   "metadata": {},
   "outputs": [],
   "source": [
    "#check mape value of validation set\n",
    "mean_absolute_percentage_error(reg_aq1_temp1.predict(x_val), y_val)"
   ]
  },
  {
   "cell_type": "code",
   "execution_count": null,
   "id": "9b93bca1",
   "metadata": {},
   "outputs": [],
   "source": [
    "from scipy.stats import randint\n",
    "param_grid = {\n",
    "    'bootstrap': [True, False],\n",
    "    'max_depth': randint(1 , 100),\n",
    "    'max_features': ['auto', 'sqrt', 'log2', 2, 3],\n",
    "    'min_samples_leaf': [1, 2, 3, 4, 5],\n",
    "    'min_samples_split': [2, 4, 8, 10],\n",
    "    'n_estimators': randint(50 , 400)}"
   ]
  },
  {
   "cell_type": "code",
   "execution_count": null,
   "id": "be33df49",
   "metadata": {},
   "outputs": [],
   "source": [
    "scoring = {'mse': make_scorer(mean_squared_error,greater_is_better=False)}"
   ]
  },
  {
   "cell_type": "code",
   "execution_count": null,
   "id": "8470aa0f",
   "metadata": {},
   "outputs": [],
   "source": [
    "cv = ShuffleSplit(n_splits=5, test_size=0.2,random_state=42)"
   ]
  },
  {
   "cell_type": "code",
   "execution_count": null,
   "id": "caa28463",
   "metadata": {},
   "outputs": [],
   "source": [
    "random_search_aq1_temp1 = RandomizedSearchCV(estimator=reg_aq1_temp1, \n",
    "                           param_distributions=param_grid, \n",
    "                           n_iter=100,\n",
    "                           scoring=scoring, \n",
    "                           refit='mse',\n",
    "                           n_jobs=-1, \n",
    "                           cv=cv, \n",
    "                           verbose=2)"
   ]
  },
  {
   "cell_type": "code",
   "execution_count": null,
   "id": "d16a8f27",
   "metadata": {},
   "outputs": [],
   "source": [
    "%%time\n",
    "random_search_aq1_temp1.fit(x_train_oly, y_train_oly)"
   ]
  },
  {
   "cell_type": "code",
   "execution_count": null,
   "id": "f393f0a1",
   "metadata": {},
   "outputs": [],
   "source": [
    "#best hyperparameter from the optimised model\n",
    "random_search_aq1_temp1.best_params_"
   ]
  },
  {
   "cell_type": "code",
   "execution_count": null,
   "id": "90b303d0",
   "metadata": {},
   "outputs": [],
   "source": [
    "#Check the mse, mape and r2 for validation and test set using optimised model\n",
    "\n",
    "mse_val_random_search_aq1_temp1 = mean_squared_error(random_search_aq1_temp1.predict(x_val), y_val)\n",
    "\n",
    "mape_val_random_search_aq1_temp1 = mean_absolute_percentage_error(random_search_aq1_temp1.predict(x_val), y_val)\n",
    "\n",
    "r2_val_random_search_aq1_temp1 = r2_score(random_search_aq1_temp1.predict(x_val), y_val)\n",
    "\n",
    "mse_test_random_search_aq1_temp1 = mean_squared_error(random_search_aq1_temp1.predict(x_test), y_test)\n",
    "\n",
    "mape_test_random_search_aq1_temp1 = mean_absolute_percentage_error(random_search_aq1_temp1.predict(x_test), y_test)\n",
    "\n",
    "r2_test_random_search_aq1_temp1 = r2_score(random_search_aq1_temp1.predict(x_test), y_test)\n",
    "\n",
    "mse_val_reg_aq1_temp1 = mean_squared_error(reg_aq1_temp1.predict(x_test), y_test)\n",
    "\n",
    "mape_val_reg_aq1_temp1 = mean_absolute_percentage_error(reg_aq1_temp1.predict(x_test), y_test)\n",
    "\n",
    "r2_val_reg_aq1_temp1 = r2_score(reg_aq1_temp1.predict(x_test), y_test)"
   ]
  },
  {
   "cell_type": "code",
   "execution_count": null,
   "id": "0e68643a",
   "metadata": {},
   "outputs": [],
   "source": [
    "print(mse_val_random_search_aq1_temp1)\n",
    "print(mape_val_random_search_aq1_temp1)\n",
    "print(r2_val_random_search_aq1_temp1)\n",
    "print(mse_test_random_search_aq1_temp1)\n",
    "print(mape_test_random_search_aq1_temp1) \n",
    "print(r2_test_random_search_aq1_temp1)\n",
    "print(mse_val_reg_aq1_temp1)\n",
    "print(mape_val_reg_aq1_temp1)\n",
    "print(r2_val_reg_aq1_temp1)"
   ]
  },
  {
   "cell_type": "code",
   "execution_count": null,
   "id": "3755a565",
   "metadata": {},
   "outputs": [],
   "source": [
    "plot_df1 = pd.DataFrame([random_search_aq1_temp1.predict(x_val), y_val.temp_aq1.values]).T\n",
    "plot_df1.rename(columns={0:'prediction', 1:'actual'}, inplace=True)\n",
    "plot_df1"
   ]
  },
  {
   "cell_type": "code",
   "execution_count": null,
   "id": "00cce514",
   "metadata": {},
   "outputs": [],
   "source": [
    "plot_df1_1 = pd.DataFrame([random_search_aq1_temp1.predict(x_test), y_test.temp_aq1.values]).T\n",
    "plot_df1_1.rename(columns={0:'prediction', 1:'actual'}, inplace=True)\n",
    "plot_df1_1"
   ]
  },
  {
   "cell_type": "code",
   "execution_count": null,
   "id": "0c4d1807",
   "metadata": {},
   "outputs": [],
   "source": [
    "#Export randomforest model\n",
    "import pickle\n",
    "with open('rf_temp_aq1.pkl','wb') as f:\n",
    "    pickle.dump(random_search_aq1_temp1,f)"
   ]
  },
  {
   "cell_type": "markdown",
   "id": "91a0c079",
   "metadata": {},
   "source": [
    "# ANN Model FOR AQ 1 Temperature"
   ]
  },
  {
   "cell_type": "markdown",
   "id": "90819793",
   "metadata": {},
   "source": [
    "ANN is a deep learning model which uses multiple layers and neurons. "
   ]
  },
  {
   "cell_type": "markdown",
   "id": "eb719ccf",
   "metadata": {},
   "source": [
    "## Fit the model"
   ]
  },
  {
   "cell_type": "code",
   "execution_count": null,
   "id": "5ac25df3",
   "metadata": {},
   "outputs": [],
   "source": [
    "#Fit the ANN model\n",
    "reg_aq1_temp2 = MLPRegressor(random_state=42, max_iter=500, hidden_layer_sizes=(10,), activation='relu')\n",
    "reg_aq1_temp2.fit(x_train_oly, np.ravel(y_train_oly))"
   ]
  },
  {
   "cell_type": "code",
   "execution_count": null,
   "id": "219100bd",
   "metadata": {},
   "outputs": [],
   "source": [
    "r2_score(reg_aq1_temp2.predict(x_val), y_val)"
   ]
  },
  {
   "cell_type": "code",
   "execution_count": null,
   "id": "b38c7dcf",
   "metadata": {},
   "outputs": [],
   "source": [
    "mean_squared_error(reg_aq1_temp2.predict(x_val), y_val)"
   ]
  },
  {
   "cell_type": "code",
   "execution_count": null,
   "id": "2f2f1f32",
   "metadata": {},
   "outputs": [],
   "source": [
    "mean_absolute_percentage_error(reg_aq1_temp2.predict(x_val), y_val)"
   ]
  },
  {
   "cell_type": "markdown",
   "id": "c78c2edf",
   "metadata": {},
   "source": [
    "## Hyperparameter Optimisation"
   ]
  },
  {
   "cell_type": "code",
   "execution_count": null,
   "id": "a1a7fa99",
   "metadata": {},
   "outputs": [],
   "source": [
    "scoring = {'mse': make_scorer(mean_squared_error,greater_is_better=False)}\n",
    "param_grid = {'hidden_layer_sizes': [(10,), (8,), (15,), (10,10), (5,), (10,10,10), (50,50,50), (100,100,100), (100,100,100)],\n",
    "          'activation': ['relu','tanh','logistic'],\n",
    "          'alpha': [0.0001, 0.001, 0.01, 0.1, 0.05],\n",
    "          'learning_rate': ['constant','adaptive'],\n",
    "          'solver': ['adam', 'sgd']}"
   ]
  },
  {
   "cell_type": "code",
   "execution_count": null,
   "id": "6884143d",
   "metadata": {},
   "outputs": [],
   "source": [
    "grid_search_aq9_temp2 = GridSearchCV(estimator=reg_aq9_temp2, \n",
    "                           param_grid=param_grid, \n",
    "                           scoring=scoring, \n",
    "                           refit='mse',\n",
    "                           n_jobs=-1, \n",
    "                           cv=5, \n",
    "                           verbose=2)"
   ]
  },
  {
   "cell_type": "code",
   "execution_count": null,
   "id": "e8036c6b",
   "metadata": {},
   "outputs": [],
   "source": [
    "cv = ShuffleSplit(n_splits=5, test_size=0.2,random_state=42)"
   ]
  },
  {
   "cell_type": "code",
   "execution_count": null,
   "id": "1b4271c1",
   "metadata": {},
   "outputs": [],
   "source": [
    "random_search_aq1_temp2 = RandomizedSearchCV(estimator=reg_aq1_temp2, \n",
    "                           param_distributions=param_grid, \n",
    "                           n_iter=100,\n",
    "                           scoring=scoring, \n",
    "                           refit='mse',\n",
    "                           n_jobs=-1, \n",
    "                           cv=cv, \n",
    "                           verbose=2)"
   ]
  },
  {
   "cell_type": "code",
   "execution_count": null,
   "id": "ac428273",
   "metadata": {},
   "outputs": [],
   "source": [
    "%%time\n",
    "random_search_aq1_temp2.fit(x_train_oly, np.ravel(y_train_oly))"
   ]
  },
  {
   "cell_type": "code",
   "execution_count": null,
   "id": "6136f0ea",
   "metadata": {},
   "outputs": [],
   "source": [
    "print(\"Best parameters found: \", grid_search_aq9_temp2.best_params_)\n",
    "print(\"Best score: \", grid_search_aq9_temp2.best_score_)"
   ]
  },
  {
   "cell_type": "code",
   "execution_count": null,
   "id": "6b325169",
   "metadata": {},
   "outputs": [],
   "source": [
    "random_search_aq1_temp2.best_params_"
   ]
  },
  {
   "cell_type": "code",
   "execution_count": null,
   "id": "8d69e2fe",
   "metadata": {},
   "outputs": [],
   "source": [
    "#Check the mse, mape and r2 for validation and test set using optimised model\n",
    "\n",
    "mse_val_random_search_aq1_temp2 = mean_squared_error(random_search_aq1_temp2.predict(x_val), y_val)\n",
    "\n",
    "mape_val_random_search_aq1_temp2 = mean_absolute_percentage_error(random_search_aq1_temp2.predict(x_val), y_val)\n",
    "\n",
    "r2_val_random_search_aq1_temp2 = r2_score(random_search_aq1_temp2.predict(x_val), y_val)\n",
    "\n",
    "mse_test_random_search_aq1_temp2 = mean_squared_error(random_search_aq1_temp2.predict(x_test), y_test)\n",
    "\n",
    "mape_test_random_search_aq1_temp2 = mean_absolute_percentage_error(random_search_aq1_temp2.predict(x_test), y_test)\n",
    "\n",
    "r2_test_random_search_aq1_temp2 = r2_score(random_search_aq1_temp2.predict(x_test), y_test)\n",
    "\n",
    "mse_val_reg_aq1_temp2 = mean_squared_error(reg_aq1_temp2.predict(x_test), y_test)\n",
    "\n",
    "mape_val_reg_aq1_temp2 = mean_absolute_percentage_error(reg_aq1_temp2.predict(x_test), y_test)\n",
    "\n",
    "r2_val_reg_aq1_temp2 = r2_score(reg_aq1_temp2.predict(x_test), y_test)"
   ]
  },
  {
   "cell_type": "code",
   "execution_count": null,
   "id": "e4b30c51",
   "metadata": {},
   "outputs": [],
   "source": [
    "print(mse_val_random_search_aq1_temp2)\n",
    "print(mape_val_random_search_aq1_temp2)\n",
    "print(r2_val_random_search_aq1_temp2)\n",
    "print(mse_test_random_search_aq1_temp2)\n",
    "print(mape_test_random_search_aq1_temp2) \n",
    "print(r2_test_random_search_aq1_temp2)\n",
    "print(mse_val_reg_aq1_temp2)\n",
    "print(mape_val_reg_aq1_temp2)\n",
    "print(r2_val_reg_aq1_temp2)"
   ]
  },
  {
   "cell_type": "code",
   "execution_count": null,
   "id": "a26a3217",
   "metadata": {},
   "outputs": [],
   "source": [
    "plot_df2 = pd.DataFrame([random_search_aq1_temp2.predict(x_val), y_val.temp_aq1.values]).T\n",
    "plot_df2.rename(columns={0:'prediction', 1:'actual'}, inplace=True)\n",
    "plot_df2"
   ]
  },
  {
   "cell_type": "code",
   "execution_count": null,
   "id": "5144f90f",
   "metadata": {},
   "outputs": [],
   "source": [
    "plot_df2_1 = pd.DataFrame([random_search_aq1_temp2.predict(x_test), y_test.temp_aq1.values]).T\n",
    "plot_df2_1.rename(columns={0:'prediction', 1:'actual'}, inplace=True)\n",
    "plot_df2_1 "
   ]
  },
  {
   "cell_type": "code",
   "execution_count": null,
   "id": "449e6e0a",
   "metadata": {},
   "outputs": [],
   "source": [
    "#Export the ANN model\n",
    "import pickle\n",
    "with open('mlp_temp_aq1.pkl','wb') as f:\n",
    "    pickle.dump(random_search_aq1_temp2,f)"
   ]
  },
  {
   "cell_type": "code",
   "execution_count": null,
   "id": "8fadf1aa",
   "metadata": {},
   "outputs": [],
   "source": []
  }
 ],
 "metadata": {
  "kernelspec": {
   "display_name": "Python 3 (ipykernel)",
   "language": "python",
   "name": "python3"
  },
  "language_info": {
   "codemirror_mode": {
    "name": "ipython",
    "version": 3
   },
   "file_extension": ".py",
   "mimetype": "text/x-python",
   "name": "python",
   "nbconvert_exporter": "python",
   "pygments_lexer": "ipython3",
   "version": "3.10.4"
  }
 },
 "nbformat": 4,
 "nbformat_minor": 5
}
