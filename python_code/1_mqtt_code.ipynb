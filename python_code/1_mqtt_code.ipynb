{
 "cells": [
  {
   "cell_type": "markdown",
   "id": "b13d877f",
   "metadata": {},
   "source": [
    "# MQTT Protocol setup"
   ]
  },
  {
   "cell_type": "markdown",
   "id": "1ea63a74",
   "metadata": {},
   "source": [
    "MQTT is a lightweight, publish-subscribe, machine to machine network protocol for message queue/message queuing service. It is designed for connections with remote locations that have devices with resource constraints or limited network bandwidth, such as in the Internet of Things."
   ]
  },
  {
   "cell_type": "markdown",
   "id": "a4a77167",
   "metadata": {},
   "source": [
    "MQTT protocol was used to transmit the control outputs from my controller to the Tridium Niagara based building management system."
   ]
  },
  {
   "cell_type": "code",
   "execution_count": null,
   "id": "f5e3274d",
   "metadata": {},
   "outputs": [],
   "source": [
    "#Import relevant libraries\n",
    "\n",
    "import paho.mqtt.client as mqtt\n",
    "import time,sys\n",
    "import logging"
   ]
  },
  {
   "cell_type": "markdown",
   "id": "a855d093",
   "metadata": {},
   "source": [
    "After importing the relevant libraries I create the topics to transmit the messages"
   ]
  },
  {
   "cell_type": "code",
   "execution_count": null,
   "id": "e9b12c1e",
   "metadata": {},
   "outputs": [],
   "source": [
    "#This is the main topics\n",
    "\n",
    "topic_crest=\"crest/#\"\n",
    "topic_crest2=\"crest/+/+\"\n",
    "\n",
    "#Subtopics\n",
    "\n",
    "topic1=\"crest/Common/Josh_Control_Active\"\n",
    "topic2=\"crest/vav_gj08/settemp\"\n",
    "topic3=\"crest/vav_gj09/settemp\"\n",
    "topic4=\"crest/vav_gj08/flowrate\"\n",
    "topic5=\"crest/vav_gj09/flowrate\"\n",
    "sub_topic=topic_crest2"
   ]
  },
  {
   "cell_type": "markdown",
   "id": "0617ceb4",
   "metadata": {},
   "source": [
    "Next create a logging action to log the status of the messages that are being transmitted"
   ]
  },
  {
   "cell_type": "code",
   "execution_count": null,
   "id": "d1c18508",
   "metadata": {},
   "outputs": [],
   "source": [
    "logging.basicConfig(level=logging.INFO)\n",
    "#use DEBUG,INFO,WARNING\n",
    "\n",
    "def on_log(client, userdata, level, buf):\n",
    "    logging.info(buf) \n",
    "def on_connect(client, userdata, flags, rc):\n",
    "    if rc==0:\n",
    "        client.connected_flag=True #set flag\n",
    "        logging.info(\"connected OK\")\n",
    "    else:\n",
    "        logging.info(\"Bad connection Returned code=\"+str(rc))\n",
    "        client.loop_stop()  \n",
    "def on_disconnect(client, userdata, rc):\n",
    "    logging.info(\"client disconnected ok\")\n",
    "def on_publish(client, userdata, mid):\n",
    "    logging.info(\"In on_pub callback mid= \"  + str(mid))\n",
    "def on_subscribe(client, userdata, mid, granted_qos):\n",
    "    logging.info(\"subscribed MID= \" + str(mid))\n",
    "def on_message(client, userdata, message):\n",
    "    topic=message.topic\n",
    "    msgr=str(message.payload.decode(\"utf-8\"))\n",
    "    msgr=\"Message Received topic=\"+topic+ \" message =\"+msgr\n",
    "    logging.info(msgr)"
   ]
  },
  {
   "cell_type": "markdown",
   "id": "73c9fc4f",
   "metadata": {},
   "source": [
    "Now connect to the mqtt broker hosted on the network and transmit the message"
   ]
  },
  {
   "cell_type": "code",
   "execution_count": null,
   "id": "d6385feb",
   "metadata": {},
   "outputs": [],
   "source": [
    "#Connect to the MQTT broker\n",
    "mqtt.Client.connected_flag=False#create flag in class\n",
    "client = mqtt.Client(\"python1\")             #create new instance \n",
    "client.on_log=on_log\n",
    "client.on_connect = on_connect\n",
    "client.on_disconnect = on_disconnect\n",
    "client.on_publish = on_publish\n",
    "client.on_subscribe = on_subscribe\n",
    "client.on_message = on_message\n",
    "print(\"Connecting to broker \")\n",
    "try:\n",
    "    client.connect(\"158.125.161.xxx\", 1883, 60)      #connect to broker\n",
    "except:\n",
    "    print(\"can't connect\")\n",
    "    sys.exit(1)\n",
    "print(\"subscribing to topic \",sub_topic)\n",
    "ret= client.subscribe(sub_topic,0)\n",
    "print(\"subscribed returned \",ret)\n",
    "time.sleep(4)\n",
    "\n",
    "#Messages transmitted through the topics\n",
    "\n",
    "msg= \"false\"\n",
    "print(\"Publishing topic= \",topic1,\" message= \",msg)\n",
    "client.publish(topic1,msg)\n",
    "time.sleep(4)\n",
    "\n",
    "msg= 20\n",
    "print(\"Publishing topic= \",topic2,\" message= \",msg)\n",
    "client.publish(topic2,msg)\n",
    "time.sleep(4)\n",
    "\n",
    "msg= 20\n",
    "print(\"Publishing topic= \",topic3,\" message= \",msg)\n",
    "client.publish(topic3,msg)\n",
    "time.sleep(4)\n",
    "\n",
    "msg= 75\n",
    "print(\"Publishing topic= \",topic4,\" message= \",msg)\n",
    "client.publish(topic4,msg)\n",
    "time.sleep(4)"
   ]
  },
  {
   "cell_type": "markdown",
   "id": "159e9b12",
   "metadata": {},
   "source": [
    "This is a sample code to show how the MQTT messaging is set up. The \"msg\" needs to be redirected to the relevant output varibales from the controller"
   ]
  }
 ],
 "metadata": {
  "kernelspec": {
   "display_name": "Python 3 (ipykernel)",
   "language": "python",
   "name": "python3"
  },
  "language_info": {
   "codemirror_mode": {
    "name": "ipython",
    "version": 3
   },
   "file_extension": ".py",
   "mimetype": "text/x-python",
   "name": "python",
   "nbconvert_exporter": "python",
   "pygments_lexer": "ipython3",
   "version": "3.10.4"
  }
 },
 "nbformat": 4,
 "nbformat_minor": 5
}
