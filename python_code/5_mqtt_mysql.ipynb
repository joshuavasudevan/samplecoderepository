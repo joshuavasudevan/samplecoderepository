{
  "metadata": {
    "language_info": {
      "name": ""
    },
    "kernelspec": {
      "name": "python",
      "display_name": "Python (Pyodide)",
      "language": "python"
    }
  },
  "nbformat_minor": 4,
  "nbformat": 4,
  "cells": [
    {
      "cell_type": "code",
      "source": "import paho.mqtt.client as mqtt\nimport mysql.connector\nimport time\nfrom datetime import datetime\n\n# MQTT Broker configuration\nmqtt_broker_address = \"broker_address\"\nmqtt_broker_port = 1883\nmqtt_username = \"username\"\nmqtt_password = \"password\"\n\n# MySQL Database configuration\nmysql_host = \"host_address\"\nmysql_user = \"username\"\nmysql_password = \"password\"\nmysql_database = \"database_name\"\n\n# MQTT on_connect callback\ndef on_connect(client, userdata, flags, rc):\n    print(\"Connected to MQTT broker with result code \" + str(rc))\n    # Subscribe to the topics\n    client.subscribe(\"topic1\")\n    client.subscribe(\"topic2\")\n    client.subscribe(\"topic3\")\n\n# MQTT on_message callback\ndef on_message(client, userdata, message):\n    # Parse the received message payload\n    payload = message.payload.decode(\"utf-8\")\n    topic = message.topic\n    \n    # Store the data to MySQL database\n    try:\n        cnx = mysql.connector.connect(user=mysql_user, password=mysql_password,\n                                      host=mysql_host, database=mysql_database)\n        cursor = cnx.cursor()\n        add_data = (\"INSERT INTO table_name (timestamp, topic, payload) VALUES (%s, %s, %s)\")\n        data = (datetime.now(), topic, payload)\n        cursor.execute(add_data, data)\n        cnx.commit()\n        cursor.close()\n        cnx.close()\n        print(\"Data added to MySQL database: \" + topic + \" \" + payload)\n    except mysql.connector.Error as err:\n        print(\"Failed to add data to MySQL database: {}\".format(err))\n\n# MQTT client configuration\nclient = mqtt.Client()\nclient.username_pw_set(username=mqtt_username, password=mqtt_password)\nclient.on_connect = on_connect\nclient.on_message = on_message\nclient.connect(mqtt_broker_address, mqtt_broker_port)\n\n# MQTT client loop\nwhile True:\n    client.loop_start()\n    time.sleep(900)  # wait for 15 minutes\n    client.loop_stop()\n",
      "metadata": {},
      "execution_count": null,
      "outputs": []
    }
  ]
}